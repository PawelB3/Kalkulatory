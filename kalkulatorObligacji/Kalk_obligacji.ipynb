{
 "cells": [
  {
   "cell_type": "code",
   "execution_count": 78,
   "metadata": {
    "collapsed": true,
    "pycharm": {
     "name": "#%%\n"
    }
   },
   "outputs": [],
   "source": [
    "import numpy_financial as npf\n",
    "import pandas as pd\n",
    "import QuantLib as ql\n",
    "from enum import Enum"
   ]
  },
  {
   "cell_type": "code",
   "execution_count": 70,
   "outputs": [
    {
     "data": {
      "text/plain": "0.0898"
     },
     "execution_count": 70,
     "metadata": {},
     "output_type": "execute_result"
    }
   ],
   "source": [
    "ilosc = 50\n",
    "nominal = 100\n",
    "r = 0.08\n",
    "harmonogram = '6M'\n",
    "m = 2  # Ilość wypłat w roku na podstawie harmonogramu wypłat\n",
    "termin = 3  # termin zapadalności podany w latach od teraz dla ułatwienia -pozostało lat\n",
    "przeplywy = [r*nominal for _ in range(2 * 3)]\n",
    "przeplywy.insert(0,-nominal)\n",
    "przeplywy.insert(-1,nominal * (1+r))\n",
    "\n",
    "round(npf.irr(przeplywy*ilosc),4)"
   ],
   "metadata": {
    "collapsed": false,
    "pycharm": {
     "name": "#%%\n"
    }
   }
  },
  {
   "cell_type": "code",
   "execution_count": 71,
   "outputs": [],
   "source": [
    "def durations(r, m, n):\n",
    "    macaulay_duration = ((1+r)/(m*r))*(1 - (1 / (1+r)**n))\n",
    "    modified_duration = macaulay_duration / (1 + r)\n",
    "    return modified_duration"
   ],
   "metadata": {
    "collapsed": false,
    "pycharm": {
     "name": "#%%\n"
    }
   }
  },
  {
   "cell_type": "code",
   "execution_count": null,
   "outputs": [],
   "source": [],
   "metadata": {
    "collapsed": false,
    "pycharm": {
     "name": "#%%\n"
    }
   }
  },
  {
   "cell_type": "code",
   "execution_count": 75,
   "outputs": [],
   "source": [
    "class HarmonogramWyplat(Enum):\n",
    "    roczne = 1\n",
    "    polroczne = 2\n",
    "    kwartalne = 6\n",
    "    miesieczne = 12"
   ],
   "metadata": {
    "collapsed": false,
    "pycharm": {
     "name": "#%%\n"
    }
   }
  },
  {
   "cell_type": "code",
   "execution_count": 76,
   "outputs": [],
   "source": [
    "t = HarmonogramWyplat.polroczne"
   ],
   "metadata": {
    "collapsed": false,
    "pycharm": {
     "name": "#%%\n"
    }
   }
  },
  {
   "cell_type": "code",
   "execution_count": 79,
   "outputs": [],
   "source": [
    "obligacje = pd.DataFrame(columns=['ilość', 'wartość nominalna',\n",
    "                                      'częstość wypłat', 'lata do wykupu', 'IRR', 'Śr. czas trwania'])"
   ],
   "metadata": {
    "collapsed": false,
    "pycharm": {
     "name": "#%%\n"
    }
   }
  },
  {
   "cell_type": "code",
   "execution_count": 81,
   "outputs": [
    {
     "data": {
      "text/plain": "nan"
     },
     "execution_count": 81,
     "metadata": {},
     "output_type": "execute_result"
    }
   ],
   "source": [
    "obligacje.loc[len(obligacje)]"
   ],
   "metadata": {
    "collapsed": false,
    "pycharm": {
     "name": "#%%\n"
    }
   }
  },
  {
   "cell_type": "code",
   "execution_count": null,
   "outputs": [],
   "source": [],
   "metadata": {
    "collapsed": false,
    "pycharm": {
     "name": "#%%\n"
    }
   }
  }
 ],
 "metadata": {
  "kernelspec": {
   "display_name": "Python 3",
   "language": "python",
   "name": "python3"
  },
  "language_info": {
   "codemirror_mode": {
    "name": "ipython",
    "version": 2
   },
   "file_extension": ".py",
   "mimetype": "text/x-python",
   "name": "python",
   "nbconvert_exporter": "python",
   "pygments_lexer": "ipython2",
   "version": "2.7.6"
  }
 },
 "nbformat": 4,
 "nbformat_minor": 0
}